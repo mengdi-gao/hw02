{
 "cells": [
  {
   "cell_type": "markdown",
   "metadata": {},
   "source": [
    "# Statistics 159/259, Homework 2. Election Fraud\n",
    "\n",
    "- **Due 2/7/2021, 11:59PM PT**\n",
    "\n",
    "- Profs. Perez and Stark, Department of Statistics, UC Berkeley\n",
    "\n",
    "- This assignment is worth a maximum of **30 points**.\n",
    "\n",
    "\n",
    "For this assignment, you will create a Jupyter Notebook called\n",
    "`hw02-solution.ipynb` where you will type up your solutions. Create the\n",
    "notebook with the contents of the questions below, and fill in your answer\n",
    "below each question. You will need to add this new file to your repository and\n",
    "push it back up to Github Classroom so we can see it. Please keep each top-level question (numbered heading with a [XX points] marker) _in a separate cell_.\n",
    "\n",
    "**Problem context - claims of fraud in the 2020 US Elections:** Charles J.\n",
    "Cicchetti, Ph.D., filed [a\n",
    "declaration](https://www.supremecourt.gov/DocketPDF/22/22O155/163048/20201208132827887_TX-v-State-ExpedMot%202020-12-07%20FINAL.pdf\n",
    ") in the recent Supreme Court challenge to the election results in several\n",
    "states. Among other things, Cicchetti discusses hypothesis tests about the vote\n",
    "in Georgia. Paragraph 11 reports a Z-score of 396.3; paragraph 12 reports a\n",
    "Z-score of 108.7; and paragraph 15 reports a Z-score 1,891."
   ]
  },
  {
   "cell_type": "markdown",
   "metadata": {},
   "source": [
    "## 2.1. [ 8 Points]  Explain the hypothesis tests. \n",
    "\n",
    "- What are the null hypotheses? \n",
    "\n",
    "    (1) H0 for paragraph 11: The number of votes Clinton received in 2016 is the same as the number of votes Biden received in 2020 in Georgia.\n",
    "    \n",
    "    (2) H0 for paragraph 12: The percentage of votes Clinton received in 2016 is the same as the percentage of votes Biden received in 2020 in Georgia.\n",
    "    \n",
    "    (3) H0 for paragraph 15: Votes tabulated before November 4 at 3:10 AM EST and votes tabulated from November 4  3:10 AM EST to November 18 2:00 PM EST are random samples from the same population of all votes cast.\n",
    "\n",
    "\n",
    "- How is the Z-score calculated?\n",
    "\n",
    "    According to Cicchetti, \n",
    "    \n",
    "    For paragraph 11, $Z$-score = $\\frac{|\\mu_1 - \\mu_2|}{\\sqrt{\\sigma^2_1 + \\sigma^2_2}}$, where $\\sigma^2 = \\mu * (1 - \\frac{\\mu}{n})$\n",
    "    \n",
    "    For paragraph 12, $Z$-score = $\\frac{|p_1 - p_2|}{\\sqrt{\\frac{\\sigma^2_1}{n_1} + \\frac{\\sigma^2_2}{n_2}}}$, where $\\sigma^2 = p * (1-p)$\n",
    "    \n",
    "    For paragraph 15, $Z$-score = $\\frac{|\\mu_1 - \\mu_2|}{\\sqrt{\\sigma^2_1 + \\sigma^2_2}}$, where $\\mu = n * p$ and $\\sigma^2 = \\mu * (1 - \\frac{\\mu}{n})$\n",
    "    \n",
    "    Note: Cicchetti does not eleminate third-party candidates for paragraph 11 and 12; but he eleminate third-party candidates for paragraph 15. I did the same thing to try to reproduce his outcomes.\n",
    "\n",
    "\n",
    "- How are the null hypotheses connected to election error or fraud in the 2020 election?\n",
    "\n",
    "    According to paragraph 11 and 12, Cicchetti suggested that Clinton and Biden should have similar votes as Democract candidates. However, if he shows that this hypothesis is highly unlikely to happen and concludes that the increase of Biden over Clinton is statiscally incredible, then it raises questions about the election. For example, some ballots may be accepted in 2020 but not in previous elections. \n",
    "    \n",
    "    According to paragraph 15, Cicchetti suggested that the first 95% voters and the last 5% voters should be random samples from the same population of all votes cast. However, if he manage to show that this hypothesis is highly unlikely to happend, then the last 5% votes could be suspicious.\n",
    "    \n",
    "    \n",
    "- Suppose the null hypotheses are false. Does that imply there was error or fraud in 2020?\n",
    "\n",
    "    Not necessarily true. \n",
    "    \n",
    "    For paragraph 11 and 12, the outcomes were based on an assumption that everything is similar as Biden and Clinton are both Democract candidates. However, it's possible that people who voted for Trump over Clinton in 2016 choose to vote for Biden in 2020 after Trump's four-year presidential term. It's also possible that Biden has more supporter than Clinton or most of the new voters from 18 to 22 support Biden over Trump.\n",
    "    \n",
    "    According to paragraph 15, even if the null hypothesis is false, it might due to the fact that the last 5% yet-to-count ballots are mail-in ballots. People who vote by mail could be very different from people who vote inperson, and the former may be more likely to support Biden. Moreover, Cicchetti does not remove the effect of the difference in the decrease number of votes (i.e. he compares 95% voters to 5% voters without adjusting for the difference in the number of votes). I reproduce his result and a result that reduce the effect as shown below. "
   ]
  },
  {
   "cell_type": "code",
   "execution_count": 1,
   "metadata": {},
   "outputs": [
    {
     "name": "stdout",
     "output_type": "stream",
     "text": [
      "Z-score is 1891.004125778797\n"
     ]
    }
   ],
   "source": [
    "# For paragraph 15 (Reproduce Cicchetti's result)\n",
    "# w/o adjusting for the difference in the number of votes\n",
    "import numpy as np\n",
    "\n",
    "n_95 = 4662328\n",
    "n_5 = 268204\n",
    "\n",
    "muT_95 = n_95 * 0.5109\n",
    "muB_95 = n_95 * 0.4891\n",
    "muT_5 = n_5 * 0.284\n",
    "muB_5 = n_5 * 0.716\n",
    "\n",
    "var_95 = muB_95 * (1 - muB_95/ n_95)\n",
    "var_5 = muB_5 * (1 - muB_5/ n_5)\n",
    "\n",
    "print(\"Z-score is\", abs((muB_95 - muB_5))/ np.sqrt(var_95 + var_5))"
   ]
  },
  {
   "cell_type": "code",
   "execution_count": 2,
   "metadata": {},
   "outputs": [
    {
     "name": "stdout",
     "output_type": "stream",
     "text": [
      "Z-score is 251.8368898865203\n"
     ]
    }
   ],
   "source": [
    "# For paragraph 15\n",
    "# Adjusting for the difference in the number of votes\n",
    "p_95 = muT_95/ n_95\n",
    "p_5 = muT_5/ n_5\n",
    "v_95 = p_95 * (1 - p_95)\n",
    "v_5 = p_5 * (1 - p_5)\n",
    "\n",
    "print(\"Z-score is\", abs((p_95 - p_5))/ np.sqrt(v_95/n_95 + v_5/n_5))"
   ]
  },
  {
   "cell_type": "markdown",
   "metadata": {},
   "source": [
    "## 2.2. [ 6 Points] Find and retrieve the underlying election data and repeat his calculations. \n",
    "\n",
    "- Explain where and how you got the data and provide a reproducible way to find and retrieve them.\n",
    "\n",
    "    For paragraph 11 and 12, I searched the election data and found it through https://dataverse.harvard.edu/dataset.xhtml?persistentId=doi:10.7910/DVN/42MVDX.\n",
    "    \n",
    "    For paragraph 15, Yucong Chen shared her data with me as I did not manage to find the election data with timestamp. She found it through https://github.com/Ne02012/NYT-2020-Vote-Count_Tracker.\n",
    "    \n",
    "    To reproduce my outcomes, you can download the data called \"U.S. President 1976–2020\" for paragraph 11 and 12 and the data called \"battleground-state-changes\" for paragraph 15 via the provided links.\n",
    "\n",
    "\n",
    "- Do you find the same inputs Cicchetti did? If not, explain.\n",
    "\n",
    "    The data I found for 2016 election are the same, but my data for 2020 election is slightly different from the data provided by Cicchetti. I have searched for the election data in other sources and they are the same as my data.\n",
    "    \n",
    "    \n",
    "- Do you get the same Z-scores reported in paragraphs 11, 12, and 15? If not, explain.\n",
    "\n",
    "    I got similar answers through the data I found because the data in 2020 is slightly different from the data provided by Cicchetti. I also managed to use the data provided by him and reproduce the exact same answers. Here's the outcomes:\n",
    "    \n",
    "    For paragraph 11, the Z-score calculated through my data is 395.3 and the Z-score calculated through Cicchetti's data is 396.3 (same as the z-score he gets);\n",
    "    \n",
    "    For paragraph 12, the Z-score calculated through my data is 115.4 and the Z-score calculated through Cicchetti's data is 108.7 (same as the z-score he gets);\n",
    "    \n",
    "    For paragraph 15, the Z-score calculated through my data is 1877.6 and the Z-score calculated through Cicchetti's data is 1891.0 (same as the z-score he gets);\n",
    "    \n",
    "    Please feel free the reproduce my outcomes according to the code below:"
   ]
  },
  {
   "cell_type": "code",
   "execution_count": 3,
   "metadata": {},
   "outputs": [],
   "source": [
    "import pandas as pd\n",
    "df = pd.read_csv('1976-2020-president.csv')\n",
    "df_2016 = df.loc[(df.year == 2016) & (df.state == 'GEORGIA')]\n",
    "df_2020 = df.loc[(df.year == 2020) & (df.state == 'GEORGIA')]"
   ]
  },
  {
   "cell_type": "code",
   "execution_count": 4,
   "metadata": {},
   "outputs": [],
   "source": [
    "# Votes for Republican in 2016 in Georgia\n",
    "df_2016R = df_2016[df_2016.party_detailed == 'REPUBLICAN']\n",
    "\n",
    "# Votes for Democrat in 2016 in Georgia\n",
    "df_2016D = df_2016[df_2016.party_detailed == 'DEMOCRAT']\n",
    "\n",
    "# Votes for Republican in 2020 in Georgia\n",
    "df_2020R = df_2020[df_2020.party_detailed == 'REPUBLICAN']\n",
    "\n",
    "# Votes for Democrat in 2020 in Georgia\n",
    "df_2020D = df_2020[df_2020.party_detailed == 'DEMOCRAT']"
   ]
  },
  {
   "cell_type": "markdown",
   "metadata": {},
   "source": [
    "### For paragraph 11 (w/o adjusting for the difference in the number of votes)"
   ]
  },
  {
   "cell_type": "code",
   "execution_count": 5,
   "metadata": {},
   "outputs": [
    {
     "name": "stdout",
     "output_type": "stream",
     "text": [
      "Z-score is 395.298061605372\n"
     ]
    }
   ],
   "source": [
    "# through my data\n",
    "mu1 = df_2016D['candidatevotes'].values[0]\n",
    "n1 = df_2016D['totalvotes'].values[0]\n",
    "mu2 = df_2020D['candidatevotes'].values[0]\n",
    "n2 = df_2020D['totalvotes'].values[0]\n",
    "var1 = mu1 * (1 - mu1/ n1)\n",
    "var2 = mu2 * (1 - mu2/ n2)\n",
    "\n",
    "print(\"Z-score is\", abs((mu1 - mu2))/ np.sqrt(var1 + var2))"
   ]
  },
  {
   "cell_type": "code",
   "execution_count": 6,
   "metadata": {},
   "outputs": [
    {
     "name": "stdout",
     "output_type": "stream",
     "text": [
      "Z-score is 396.32409705803593\n"
     ]
    }
   ],
   "source": [
    "# through Cicchetti's data\n",
    "mu1_C = 1877963\n",
    "n1_C = 1877963/ 0.459\n",
    "mu2_C = 2474507\n",
    "n2_C = 2474507/ 0.495\n",
    "var1_C = mu1_C * (1 - mu1_C/ n1_C)\n",
    "var2_C = mu2_C * (1 - mu2_C/ n2_C)\n",
    "\n",
    "print(\"Z-score is\", abs((mu1_C - mu2_C))/ np.sqrt(var1_C + var2_C))"
   ]
  },
  {
   "cell_type": "markdown",
   "metadata": {},
   "source": [
    "### For paragraph 12 (adjusting for the difference in the number of votes)"
   ]
  },
  {
   "cell_type": "code",
   "execution_count": 7,
   "metadata": {},
   "outputs": [
    {
     "name": "stdout",
     "output_type": "stream",
     "text": [
      "Z-score is 115.41935859412271\n"
     ]
    }
   ],
   "source": [
    "# through my data\n",
    "p1 = mu1/ n1\n",
    "p2 = mu2/ n2\n",
    "v1 = p1 * (1 - p1)\n",
    "v2 = p2 * (1 - p2)\n",
    "\n",
    "print(\"Z-score is\", abs((p1 - p2))/ np.sqrt(v1/n1 + v2/n2))"
   ]
  },
  {
   "cell_type": "code",
   "execution_count": 8,
   "metadata": {},
   "outputs": [
    {
     "name": "stdout",
     "output_type": "stream",
     "text": [
      "Z-score is 108.2015577603038\n"
     ]
    }
   ],
   "source": [
    "# through Cicchetti's data\n",
    "p1_C = mu1_C/ n1_C\n",
    "p2_C = mu2_C/ n2_C\n",
    "v1_C = p1_C * (1 - p1_C)\n",
    "v2_C = p2_C * (1 - p2_C)\n",
    "\n",
    "print(\"Z-score is\", abs((p1_C - p2_C))/ np.sqrt(v1_C/n1_C + v2_C/n2_C))"
   ]
  },
  {
   "cell_type": "markdown",
   "metadata": {},
   "source": [
    "### For paragraph 15 (w/o adjusting for the difference in the number of votes)"
   ]
  },
  {
   "cell_type": "code",
   "execution_count": 9,
   "metadata": {},
   "outputs": [
    {
     "name": "stdout",
     "output_type": "stream",
     "text": [
      "Z-score is 1877.6326996212542\n"
     ]
    }
   ],
   "source": [
    "# through my data\n",
    "df2 = pd.read_csv('battleground-state-changes.csv')\n",
    "\n",
    "df_before = df2.loc[(df2.state == 'Georgia (EV: 16)') & \n",
    "        (df2.timestamp > '2020-11-04 04:00:00.000000') & (df2.timestamp < '2020-11-04 09:00:00.000000')]\n",
    "\n",
    "# I did not use the following timestamp b.c. it gives drastically different answer\n",
    "# df_before = df2.loc[(df2.state == 'Georgia (EV: 16)') & \n",
    "#         (df2.timestamp > '2020-11-04 03:00:00.000000') & (df2.timestamp < '2020-11-04 04:00:00.000000')]\n",
    "\n",
    "\n",
    "df_after = df2.loc[(df2.state == 'Georgia (EV: 16)') & \n",
    "        (df2.timestamp > '2020-11-18 00:00:00.000000') & (df2.timestamp < '2020-11-19 00:00:00.000000')]\n",
    "\n",
    "n_95 = df_before['total_votes_count'].values[0] \n",
    "n_5 = df_after['total_votes_count'].values[0] - n_95\n",
    "muB_95= df_before['trailing_candidate_votes'].values[0]\n",
    "muB_5 = df_after['leading_candidate_votes'].values[0] - muB_95\n",
    "\n",
    "var_95 = muB_95 * (1 - muB_95/ n_95)\n",
    "var_5 = muB_5 * (1 - muB_5/ n_5)\n",
    "\n",
    "print(\"Z-score is\", abs((muB_95 - muB_5))/ np.sqrt(var_95 + var_5))"
   ]
  },
  {
   "cell_type": "code",
   "execution_count": 10,
   "metadata": {},
   "outputs": [
    {
     "name": "stdout",
     "output_type": "stream",
     "text": [
      "Z-score is 1891.004125778797\n"
     ]
    }
   ],
   "source": [
    "# through Cicchetti's data\n",
    "n_95_C = 4662328\n",
    "n_5_C = 268204\n",
    "muT_95_C = n_95_C * 0.5109\n",
    "muB_95_C = n_95_C * 0.4891\n",
    "muT_5_C = n_5_C * 0.284\n",
    "muB_5_C = n_5_C * 0.716\n",
    "\n",
    "var_95_C = muB_95_C * (1 - muB_95_C/ n_95_C)\n",
    "var_5_C = muB_5_C * (1 - muB_5_C/ n_5_C)\n",
    "\n",
    "print(\"Z-score is\", abs((muB_95_C - muB_5_C))/ np.sqrt(var_95_C + var_5_C))"
   ]
  },
  {
   "cell_type": "markdown",
   "metadata": {},
   "source": [
    "## 2.3. [ 4 Points] Z tests\n",
    "\n",
    "- What are the assumptions of a Z-test? What is the complete null hypothesis for a Z-test?\n",
    "    \n",
    "    - Assumptions:\n",
    "    \n",
    "        - The data follow the normal probability distribution and the population standard deviation is known, or the sample size must be large enough.\n",
    "    \n",
    "        - The sample is a simple random sample from its population. Each individual in the population has an equal probability of being selected in the sample. i.e. independent and identically.\n",
    "    \n",
    "    - The complete null hypothesis for a Z-test:\n",
    "\n",
    "    Let $X_1, ..., X_n$ be iid random samples from population 1, and denote $\\bar{X}$ as the sample mean;\n",
    "    \n",
    "    Let $Y_1,..., Y_m$ be iid random samples from population 2, and denote $\\bar{Y}$ as the sample mean;\n",
    "    \n",
    "    Both of them follow normal distribution or both of their sample size bigger than 30. Then, the null hypothesis is $\\bar{X} = \\bar{Y}$.\n",
    "    \n",
    "\n",
    "- Are the assumptions met here? Why or why not?\n",
    "\n",
    "    I think some of the assumptions are not met. Each vote is not independent as many factors can affect how people vote in election. For example, friends and family are more likely to have the same votes than strangers."
   ]
  },
  {
   "cell_type": "markdown",
   "metadata": {},
   "source": [
    "## 2.4. [ 6 Points] Z tests in Cicchetti's analysis\n",
    "\n",
    "Cicchetti's analysis assumes that votes are random and there is a given probability that\n",
    "each voter will vote for the Democratic candidate, independent of all other voters. Suppose that's true.\n",
    "\n",
    "+ What is the probability distribution of the number of votes for the Democratic candidate?\n",
    "\n",
    "    Binomial distribution.\n",
    "\n",
    "\n",
    "+ What is the probability distribution of the difference in vote shares across elections?\n",
    "\n",
    "    It approximatly follows a normal distribution. The differnce between two independent binomial distribution is approximatly normal given the probability is the same and the sample size is sufficiently large.\n",
    "\n",
    "\n",
    "+ Do you think the normal approximation to that distribution is accurate to a part in a quintillion? Why or why not?\n",
    "\n",
    "    Yes. As it approximatly follows a normal distribution, it is continuous and it can be accurate to a part in a quintillion. Moreover, votes are iid and the sample size is large enough. Therefore, I think Cichetti's normal approximation to that distribution is accurate to a part in a quintillion."
   ]
  },
  {
   "cell_type": "markdown",
   "metadata": {},
   "source": [
    "## 2.5. [ 2 Points] What are the strengths of Cichetti's analysis?\n",
    "\n",
    "Cichetti demonstrates his analysis step by step. Besides, he shares the exact values of the election data as well as the test statistics. He also explains the meaning of those values and numbers in plain English. Therefore, we are able to reproduce his outcomes and understand his hypothesis."
   ]
  },
  {
   "cell_type": "markdown",
   "metadata": {},
   "source": [
    "## 2.6 [ 2 Points] What are the shortcomings?\n",
    "\n",
    "To begin with, Cichetti's Z-tests do not met all the assumptions, and it makes his conclusion less persuasive. For example, we cannot assume that votes are independent as many factors can affect how people vote in election. Moreover, some of his tests are not consistent. For example, in paragraph 11, he does not consider the effect of the difference in the increase/ decrease number of votes; he explains the effect of the difference and removes it in the hypothesis for paragraph 12. However, in paragraph 15, he does not adjust for the difference in the number of votes without mentioning it. As shown in 2.1, his action gives us a much greater test statistics, 1891, instead of 252. Hence, his analysis is not rigorous enough and it may weaken his conclusion. "
   ]
  },
  {
   "cell_type": "markdown",
   "metadata": {},
   "source": [
    "## 2.7. [ 2 Points] How strong is Cicchetti's argument that the reported results in Georgia are wrong? Explain.\n",
    "\n",
    "I think Cicchetti's argument is not strong. First of all, Cichetti's Z-tests do not met all the assumptions, and it weakens his conclusion. Besides, even if his null hypotheses are false, it does not necessarily mean that the reported results in Georgia are wrong. For example, people who vote by mail could be very different from people who vote inperson. As stated by many politicians and media, voters who supported Democrats were more likely to choose mail-in ballots. Therefore, it's possible that votes tabulated before November 4 at 3:10 AM EST and votes tabulated from November 4 3:10 AM EST to November 18 2:00 PM EST are not random samples from the same population. However, it doesn't mean that the results in Georgia are wrong."
   ]
  },
  {
   "cell_type": "code",
   "execution_count": null,
   "metadata": {},
   "outputs": [],
   "source": []
  }
 ],
 "metadata": {
  "kernelspec": {
   "display_name": "Python 3",
   "language": "python",
   "name": "python3"
  },
  "language_info": {
   "codemirror_mode": {
    "name": "ipython",
    "version": 3
   },
   "file_extension": ".py",
   "mimetype": "text/x-python",
   "name": "python",
   "nbconvert_exporter": "python",
   "pygments_lexer": "ipython3",
   "version": "3.7.3"
  }
 },
 "nbformat": 4,
 "nbformat_minor": 2
}
